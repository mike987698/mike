{
 "cells": [
  {
   "cell_type": "code",
   "execution_count": 1,
   "id": "4df6f0a6",
   "metadata": {},
   "outputs": [],
   "source": [
    "import socket\n"
   ]
  },
  {
   "cell_type": "code",
   "execution_count": 2,
   "id": "155ab703",
   "metadata": {},
   "outputs": [],
   "source": [
    "s=socket.socket()"
   ]
  },
  {
   "cell_type": "code",
   "execution_count": 4,
   "id": "2d96d0e3",
   "metadata": {},
   "outputs": [],
   "source": [
    "s.bind((\"\",4567))\n",
    "s.listen()\n",
    "conn,add=s.accept()\n"
   ]
  },
  {
   "cell_type": "code",
   "execution_count": 5,
   "id": "14a34ec9",
   "metadata": {},
   "outputs": [],
   "source": [
    "d=conn.recv(1024)\n",
    "data=d.decode(\"utf-8\")\n",
    "conn.sendall(b\"hai\")"
   ]
  },
  {
   "cell_type": "code",
   "execution_count": null,
   "id": "1fcedd3f",
   "metadata": {},
   "outputs": [],
   "source": []
  }
 ],
 "metadata": {
  "kernelspec": {
   "display_name": "Python 3",
   "language": "python",
   "name": "python3"
  },
  "language_info": {
   "codemirror_mode": {
    "name": "ipython",
    "version": 3
   },
   "file_extension": ".py",
   "mimetype": "text/x-python",
   "name": "python",
   "nbconvert_exporter": "python",
   "pygments_lexer": "ipython3",
   "version": "3.8.8"
  }
 },
 "nbformat": 4,
 "nbformat_minor": 5
}
