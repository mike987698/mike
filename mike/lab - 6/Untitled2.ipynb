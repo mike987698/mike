{
 "cells": [
  {
   "cell_type": "code",
   "execution_count": 1,
   "id": "33e71e2d",
   "metadata": {},
   "outputs": [],
   "source": [
    "import socket"
   ]
  },
  {
   "cell_type": "code",
   "execution_count": 2,
   "id": "e2edaa25",
   "metadata": {},
   "outputs": [],
   "source": [
    "s=socket.socket()"
   ]
  },
  {
   "cell_type": "code",
   "execution_count": null,
   "id": "d38b019f",
   "metadata": {},
   "outputs": [],
   "source": [
    "s.bind((\"\",4567))\n",
    "s.listen()\n",
    "conn,add=s.accept()"
   ]
  },
  {
   "cell_type": "code",
   "execution_count": null,
   "id": "95bc160e",
   "metadata": {},
   "outputs": [],
   "source": [
    "data=s.recv()\n",
    "data=data"
   ]
  }
 ],
 "metadata": {
  "kernelspec": {
   "display_name": "Python 3",
   "language": "python",
   "name": "python3"
  },
  "language_info": {
   "codemirror_mode": {
    "name": "ipython",
    "version": 3
   },
   "file_extension": ".py",
   "mimetype": "text/x-python",
   "name": "python",
   "nbconvert_exporter": "python",
   "pygments_lexer": "ipython3",
   "version": "3.8.8"
  }
 },
 "nbformat": 4,
 "nbformat_minor": 5
}
