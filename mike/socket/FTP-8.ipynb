{
 "cells": [
  {
   "cell_type": "code",
   "execution_count": null,
   "metadata": {},
   "outputs": [],
   "source": [
    "import ftplib\n",
    "\n",
    "HOSTNAME = \"ftp.nitish.com\"\n",
    "USERNAME = \"nitish@ftp.com\"\n",
    "PASSWORD = \"qwerty\"\n",
    " \n",
    "ftp_server = ftplib.FTP(HOSTNAME, USERNAME, PASSWORD)\n",
    " \n",
    "ftp_server.encoding = \"utf-8\"\n",
    " \n",
    "filename = \"nitish.txt\"\n",
    " \n",
    "with open(filename, \"wb\") as file:\n",
    "    ftp_server.retrbinary(f\"RETR {filename}\", file.write)\n",
    " \n",
    "ftp_server.dir()\n",
    " \n",
    "file= open(filename, \"r\")\n",
    "print('File Content:', file.read())\n",
    " \n",
    "ftp_server.quit()"
   ]
  }
 ],
 "metadata": {
  "kernelspec": {
   "display_name": "Python 3",
   "language": "python",
   "name": "python3"
  },
  "language_info": {
   "codemirror_mode": {
    "name": "ipython",
    "version": 3
   },
   "file_extension": ".py",
   "mimetype": "text/x-python",
   "name": "python",
   "nbconvert_exporter": "python",
   "pygments_lexer": "ipython3",
   "version": "3.7.4"
  }
 },
 "nbformat": 4,
 "nbformat_minor": 2
}
